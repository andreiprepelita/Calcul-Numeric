{
 "cells": [
  {
   "cell_type": "markdown",
   "id": "placed-floating",
   "metadata": {},
   "source": [
    "# Tema 3\n",
    "\n",
    "**Topics:**\n",
    "* stocarea matricelor *rare*\n",
    "  * matrice tridiagonale\n",
    "  * matrice ce au un numar mic de elemente nenule pe linii\n",
    "* operatii elementare cu matrici *rare*\n",
    "  * adunarea\n",
    "  * inmultirea"
   ]
  },
  {
   "cell_type": "markdown",
   "id": "minute-humor",
   "metadata": {},
   "source": [
    "### Matrice tridiagonala\n",
    "\n",
    "$\n",
    "\\boldsymbol{A}=\\left(\\begin{array}{cccccccc}\n",
    "\\boldsymbol{a}_{1} & \\boldsymbol{b}_{1} & \\mathbf{0} & \\mathbf{0} & \\cdots & \\mathbf{0} & \\mathbf{0} & \\mathbf{0} \\\\\n",
    "\\boldsymbol{c}_{\\mathbf{1}} & \\boldsymbol{a}_{\\mathbf{2}} & \\boldsymbol{b}_{\\mathbf{2}} & \\mathbf{0} & \\cdots & \\mathbf{0} & \\mathbf{0} & \\mathbf{0} \\\\\n",
    "\\mathbf{0} & \\boldsymbol{c}_{\\mathbf{2}} & \\boldsymbol{a}_{\\mathbf{3}} & \\boldsymbol{b}_{\\mathbf{3}} & \\cdots & \\mathbf{0} & \\mathbf{0} & \\mathbf{0} \\\\\n",
    "\\vdots & & & & & & & \\\\\n",
    "\\mathbf{0} & \\mathbf{0} & \\mathbf{0} & \\mathbf{0} & \\cdots & \\boldsymbol{c}_{n-2} & \\boldsymbol{a}_{n-1} & \\boldsymbol{b}_{n-1} \\\\\n",
    "\\mathbf{0} & \\mathbf{0} & \\mathbf{0} & \\mathbf{0} & \\cdots & \\mathbf{0} & \\boldsymbol{c}_{n-1} & \\boldsymbol{a}_{n}\n",
    "\\end{array}\\right)\n",
    "$\n",
    "\n",
    "$\n",
    "\\boldsymbol{a}_{i j}=\\left\\{\\begin{array}{ll}\n",
    "\\boldsymbol{a}_{i} & \\text { daca } \\boldsymbol{i}=\\boldsymbol{j} \\\\\n",
    "\\boldsymbol{b}_{i} & \\text { daca } \\boldsymbol{j}-\\boldsymbol{i}=\\boldsymbol{q} \\\\\n",
    "\\boldsymbol{c}_{j} & \\text { daca } \\boldsymbol{i}-\\boldsymbol{j}=\\boldsymbol{p} \\\\\n",
    "\\boldsymbol{0} & \\text { in rest }\n",
    "\\end{array}\\right.$\n",
    "\n",
    "\n",
    "Matricele tridiagonale se memorează economic folosind trei vectori $\\boldsymbol{a} \\in \\mathbb{R}^{n}, \\boldsymbol{b} \\in \\mathbb{R}^{n-q+1}, \\boldsymbol{c} \\in \\mathbb{R}^{n-p+1}$ care memorează elementele de pe cele trei\n",
    "diagonalele nenule.\n",
    "\n",
    "Exemplu:\n",
    "\n",
    "$\n",
    "\\begin{array}{l}\n",
    "\\boldsymbol{A}=\\left(\\begin{array}{ccccc}\n",
    "\\mathbf{1 0 2 . 5} & \\mathbf{2 . 5} & \\mathbf{0 . 0} & \\mathbf{0 . 0} & \\mathbf{0 . 0} \\\\\n",
    "\\mathbf{3 . 5} & \\mathbf{1 0 4 . 8 8} & \\mathbf{1 . 0 5} & \\mathbf{0 . 0} & \\mathbf{0 . 0} \\\\\n",
    "\\mathbf{0 . 0} & \\mathbf{1 . 3} & \\mathbf{1 0 0 . 0} & \\mathbf{0 . 3 3} & \\mathbf{0 . 0} \\\\\n",
    "\\mathbf{0 . 0} & \\mathbf{0 . 0} & \\mathbf{0 . 7 3} & \\mathbf{1 0 1 . 3} & \\mathbf{0 . 0} \\\\\n",
    "\\mathbf{0 . 0} & \\mathbf{0 . 0} & \\mathbf{0 . 0} & \\mathbf{1 . 5} & \\mathbf{1 0 2 . 2 3}\n",
    "\\end{array}\\right) \\\\\n",
    "\\boldsymbol{a}=\\left(\\begin{array}{c}\n",
    "\\mathbf{1 0 2 . 5} \\\\\n",
    "\\mathbf{1 0 4 . 8 8} \\\\\n",
    "\\mathbf{1 0 0 . 0} \\\\\n",
    "\\mathbf{1 0 1 . 3} \\\\\n",
    "\\mathbf{1 0 2 . 2 3}\n",
    "\\end{array}\\right), \\boldsymbol{b}=\\left(\\begin{array}{c}\n",
    "\\mathbf{1 . 0 5} \\\\\n",
    "\\mathbf{0 . 3 3} \\\\\n",
    "\\mathbf{0 . 0}\n",
    "\\end{array}\\right), c=\\left(\\begin{array}{c}\n",
    "\\mathbf{1 . 3} \\\\\n",
    "\\mathbf{0 . 7 3} \\\\\n",
    "\\mathbf{1 . 5}\n",
    "\\end{array}\\right), \\boldsymbol{p}=\\mathbf{1 , q = 1}\n",
    "\\end{array}\n",
    "$"
   ]
  },
  {
   "cell_type": "markdown",
   "id": "configured-train",
   "metadata": {},
   "source": [
    "### Memorarea matricelor rare (schema de memorare economica)\n",
    "\n",
    "Un vector 'rar' este un vector cu 'puține' elemente nenule. Un asemenea vector se memorează eficient într-o structură care va reține doar valorile nenule și poziția în vector a respectivei valori:\n",
    "$$\n",
    "\\left\\{(v a l \\neq 0, i) ; x_{i}=v a l\\right\\}\n",
    "$$\n",
    "$\\mathrm{O}$ matrice rară poate $\\mathrm{fi}$ memorată economic ca un vector de vectori memorati rar - fiecare linie a matricei se memorează într-un vector rar.\n",
    "\n",
    "**Exemplu**:\n",
    "$$\n",
    "\\boldsymbol{A}=\\left(\\begin{array}{ccccc}\n",
    "\\mathbf{1 0 2 . 5} & \\mathbf{0 . 0} & \\mathbf{2 . 5} & \\mathbf{0 . 0} & \\mathbf{0 . 0} \\\\\n",
    "\\mathbf{3 . 5} & \\mathbf{1 0 4 . 8 8} & \\mathbf{1 . 0 5} & \\mathbf{0 . 0} & \\mathbf{0 . 3 3} \\\\\n",
    "\\mathbf{0 . 0} & \\mathbf{0 . 0} & \\mathbf{1 0 0 . 0} & \\mathbf{0 . 0} & \\mathbf{0 . 0} \\\\\n",
    "\\mathbf{0 . 0} & \\mathbf{1 . 3} & \\mathbf{0 . 0} & \\mathbf{1 0 1 . 3} & \\mathbf{0 . 0} \\\\\n",
    "\\mathbf{0 . 7 3} & \\mathbf{0 . 0} & \\mathbf{0 . 0} & \\mathbf{1 . 5} & \\mathbf{1 0 2 . 2 3}\n",
    "\\end{array}\\right)\n",
    "$$\n",
    "se poate memora economic astfel:\n",
    "$$\n",
    "\\begin{array}{l}\n",
    "\\{\\{(2.5,3),(102.5,1)\\}, \\\\\n",
    "\\{(3.5,1),(0.33,5),(1.05,3),(104.88,2)\\},\\\\\n",
    "\\{(100.0), 3\\}\\\\\n",
    "\\{(1.3,2),(101.3,4)\\}\\\\\n",
    "\\{(1.5,4),(0.73,1),(102.23,5)\\}\\}\n",
    "\\end{array}\n",
    "$$"
   ]
  },
  {
   "cell_type": "markdown",
   "id": "legitimate-helicopter",
   "metadata": {},
   "source": [
    "### Input\n",
    "\n",
    "În fișierele *a.txt*, *b.txt*, *aplusb.txt*, *aorib.txt* postate pe pagina laboratorului, sunt memorate, pentru 4 matrice rare. Matricea din fișierul *b.txt* este o matrice tridiagonală, pentru care se memorează următoarele elemente:\n",
    "\n",
    "- $n$ dimensiunea datelor, $p, q-$ locul de unde încep diagonalele nenule\n",
    "- cele $\\boldsymbol{n}$ elemente ale diagonalei principale a matricei (vectorul $\\boldsymbol{a}$ ), urmate de cele $n-1(n-p)$ elemente ale vectorului $b$ apoi cele $n-1$ $(n-q)$ elemente ale vectorului $c$. Cei trei vectori sunt separați de linii goale.\n",
    "\n",
    "Matricele care au cel mult 20 de elemente nenule pe fiecare linie sunt memorate în felul următor:\n",
    "- $n$ dimensiunea datelor,\n",
    "- $a_{i j} \\neq 0, i, j$ - elementele nenule din matricea rară $A \\in \\mathbb{R}^{n \\times n},$ indicii de linie și indicii de coloană ai respectivului element.\n",
    "- se presupune că elementele nenule ale matricei sunt plasate aleator în fisier (nu sunt ordonate după indicii de linie sau de coloană, sau altfel). Folosind fișierele atașate, să se citească dimensiunea matricelor și să se genereze structurile de date necesare pentru memorarea economică a matricelor rare (schema economică de memorare este descrisă mai jos)."
   ]
  },
  {
   "cell_type": "code",
   "execution_count": 1,
   "id": "minimal-crystal",
   "metadata": {},
   "outputs": [],
   "source": [
    "from tema3 import *\n",
    "\n",
    "A_FILE_PATH = \"./data/a.txt\" \n",
    "B_FILE_PATH = \"./data/b.txt\"\n",
    "\n",
    "SUM_FILE_PATH = \"./data/aplusb.txt\"\n",
    "MULTIPLICATION_FILE_PATH = \"./data/aorib.txt\""
   ]
  },
  {
   "cell_type": "markdown",
   "id": "opposite-dimension",
   "metadata": {},
   "source": [
    "Mai jos citim matricea rara $A$ din fisier si afisam dimensiunea matricei simetrica $A$ impreuna cu memorarea rara pentru prima linie a matricei."
   ]
  },
  {
   "cell_type": "code",
   "execution_count": 2,
   "id": "passing-finish",
   "metadata": {},
   "outputs": [
    {
     "data": {
      "text/plain": [
       "(2021, {0: 132.5, 1110: 7.0, 15: 17.0, 245: 8.0})"
      ]
     },
     "execution_count": 2,
     "metadata": {},
     "output_type": "execute_result"
    }
   ],
   "source": [
    "A = RareMatrix.from_file_path(A_FILE_PATH)\n",
    "A.n, A.rare_values[0]"
   ]
  },
  {
   "cell_type": "markdown",
   "id": "similar-whale",
   "metadata": {},
   "source": [
    "Mai jos citim (si stocam eficient) matricea Tridiagonala $B$ si afisam dimesiunea vectorilor $a, b, c$"
   ]
  },
  {
   "cell_type": "code",
   "execution_count": 3,
   "id": "perceived-favorite",
   "metadata": {},
   "outputs": [
    {
     "data": {
      "text/plain": [
       "(2021, 2020, 2020)"
      ]
     },
     "execution_count": 3,
     "metadata": {},
     "output_type": "execute_result"
    }
   ],
   "source": [
    "B = RareTriagMatrix.from_file_path(B_FILE_PATH)\n",
    "len(B.a), len(B.b), len(B.c)"
   ]
  },
  {
   "cell_type": "markdown",
   "id": "interracial-attraction",
   "metadata": {},
   "source": [
    "### Adunarea matricelor rare\n",
    "\n",
    "Complexitatea cu care trebuie implementata adunarea: $O(n)$"
   ]
  },
  {
   "cell_type": "code",
   "execution_count": 4,
   "id": "monetary-destination",
   "metadata": {},
   "outputs": [
    {
     "data": {
      "text/plain": [
       "{0: 143.25, 1110: 7.0, 15: 17.0, 245: 8.0, 1: 3.0}"
      ]
     },
     "execution_count": 4,
     "metadata": {},
     "output_type": "execute_result"
    }
   ],
   "source": [
    "my_A_plus_B = A.sum_triag_matrix(B)\n",
    "my_A_plus_B.rare_values[0]"
   ]
  },
  {
   "cell_type": "markdown",
   "id": "effective-toner",
   "metadata": {},
   "source": [
    "Evaluam rezultatele folosind fisierul *aplusb.txt* de pe pagina laboratorului"
   ]
  },
  {
   "cell_type": "code",
   "execution_count": 5,
   "id": "painful-cricket",
   "metadata": {},
   "outputs": [
    {
     "data": {
      "text/plain": [
       "True"
      ]
     },
     "execution_count": 5,
     "metadata": {},
     "output_type": "execute_result"
    }
   ],
   "source": [
    "read_A_plus_B = RareMatrix.from_file_path(SUM_FILE_PATH)\n",
    "my_A_plus_B.equals(read_A_plus_B, 10 **(-10))"
   ]
  },
  {
   "cell_type": "markdown",
   "id": "deluxe-mechanism",
   "metadata": {},
   "source": [
    "### Inmultirea matricelor rare\n",
    "**Complexitate:** $O(n ^ 2)$"
   ]
  },
  {
   "cell_type": "code",
   "execution_count": 6,
   "id": "certified-medicaid",
   "metadata": {},
   "outputs": [
    {
     "data": {
      "text/plain": [
       "{0: 1424.375,\n",
       " 1: 397.5,\n",
       " 14: 157.25,\n",
       " 15: 89.25,\n",
       " 16: 119.0,\n",
       " 244: 68.0,\n",
       " 245: 84.0,\n",
       " 246: 48.0,\n",
       " 1109: 8.75,\n",
       " 1110: 14.0,\n",
       " 1111: 89.25}"
      ]
     },
     "execution_count": 6,
     "metadata": {},
     "output_type": "execute_result"
    }
   ],
   "source": [
    "my_A_ori_B = A.mul_triag_matrix(B)\n",
    "my_A_ori_B.rare_values[0]"
   ]
  },
  {
   "cell_type": "code",
   "execution_count": 7,
   "id": "organic-effectiveness",
   "metadata": {},
   "outputs": [
    {
     "data": {
      "text/plain": [
       "{0: 1424.375,\n",
       " 14: 157.25,\n",
       " 16: 119.0,\n",
       " 244: 68.0,\n",
       " 246: 48.0,\n",
       " 1110: 14.0,\n",
       " 1: 397.5,\n",
       " 15: 89.25,\n",
       " 245: 84.0,\n",
       " 1109: 8.75,\n",
       " 1111: 89.25}"
      ]
     },
     "execution_count": 7,
     "metadata": {},
     "output_type": "execute_result"
    }
   ],
   "source": [
    "read_A_ori_B = RareMatrix.from_file_path(MULTIPLICATION_FILE_PATH)\n",
    "read_A_ori_B.rare_values[0]"
   ]
  },
  {
   "cell_type": "code",
   "execution_count": 8,
   "id": "impaired-likelihood",
   "metadata": {},
   "outputs": [
    {
     "data": {
      "text/plain": [
       "True"
      ]
     },
     "execution_count": 8,
     "metadata": {},
     "output_type": "execute_result"
    }
   ],
   "source": [
    "my_A_ori_B.equals(read_A_ori_B, 10 **(-10))"
   ]
  }
 ],
 "metadata": {
  "kernelspec": {
   "display_name": "Python 3",
   "language": "python",
   "name": "python3"
  },
  "language_info": {
   "codemirror_mode": {
    "name": "ipython",
    "version": 3
   },
   "file_extension": ".py",
   "mimetype": "text/x-python",
   "name": "python",
   "nbconvert_exporter": "python",
   "pygments_lexer": "ipython3",
   "version": "3.9.0"
  }
 },
 "nbformat": 4,
 "nbformat_minor": 5
}
